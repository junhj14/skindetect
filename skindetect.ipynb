{
  "nbformat": 4,
  "nbformat_minor": 0,
  "metadata": {
    "colab": {
      "private_outputs": true,
      "provenance": []
    },
    "kernelspec": {
      "name": "python3",
      "display_name": "Python 3"
    },
    "language_info": {
      "name": "python"
    }
  },
  "cells": [
    {
      "cell_type": "code",
      "source": [
        "import torch\n",
        "from PIL import Image\n",
        "from torchvision import transforms\n",
        "import matplotlib.pyplot as plt\n",
        "torch.hub._validate_not_a_forked_repo=lambda a,b,c: True\n",
        "\n",
        "# 입력 이미지 불러오기\n",
        "input_image = Image.open('/content/KakaoTalk_20231122_191240087_09.jpg')\n",
        "\n",
        "# 이미지 크기 변경 (예: 512x512)\n",
        "new_size = (768, 1024)\n",
        "input_image = input_image.resize(new_size)\n",
        "\n",
        "input_image = input_image.convert(\"RGB\")\n",
        "\n",
        "# 입력 이미지를 딥러닝 모델에 넣을 수 있는 형태로 전처리 수행\n",
        "preprocess = transforms.Compose([\n",
        "    transforms.ToTensor(),\n",
        "    transforms.Normalize(mean=[0.485, 0.456, 0.406], std=[0.229, 0.224, 0.225]),\n",
        "])\n",
        "input_tensor = preprocess(input_image)\n",
        "input_batch = input_tensor.unsqueeze(0)\n",
        "\n",
        "# 딥러닝 불러오기\n",
        "model = torch.hub.load('pytorch/vision:v0.10.0', 'deeplabv3_resnet50', pretrained=True)\n",
        "model.eval()\n",
        "\n",
        "# 딥러닝에 입력 이미지 넣고 예측 결과 가져오기\n",
        "output = model(input_batch)['out'][0]\n",
        "output_predictions = output.argmax(0)\n",
        "\n",
        "# 결과를 칼라로 표현하도록 색상표 만들기\n",
        "palette = torch.tensor([2 ** 25 - 1, 2 ** 15 - 1, 2 ** 21 - 1])\n",
        "colors = torch.as_tensor([i for i in range(21)])[:, None] * palette\n",
        "colors = (colors % 255).numpy().astype(\"uint8\")\n",
        "\n",
        "# 결과 이미지 생성하기\n",
        "r = Image.fromarray(output_predictions.byte().cpu().numpy()).resize(new_size)\n",
        "r.putpalette(colors)\n",
        "\n",
        "# 결과 이미지 표출하기\n",
        "plt.imshow(r)\n",
        "plt.axis('off')\n",
        "plt.show()\n"
      ],
      "metadata": {
        "id": "bc8aRzGd_aLI"
      },
      "execution_count": null,
      "outputs": []
    },
    {
      "cell_type": "code",
      "source": [
        "#시멘틱세그멘테이션 결과\n",
        "plt.imshow(r)\n",
        "plt.axis('off')"
      ],
      "metadata": {
        "id": "MM2aeOkh_rWP"
      },
      "execution_count": null,
      "outputs": []
    },
    {
      "cell_type": "code",
      "source": [
        "#사람부분(파란색)만 1 흰색으로 출력 나머진 0 검정\n",
        "import numpy as np\n",
        "rarray = np.array(r)\n",
        "result = np.where(rarray == 15, 1, 0)\n",
        "plt.imshow(result,\"gray\")\n",
        "plt.axis('off')"
      ],
      "metadata": {
        "id": "dZ8xl3tyCrQB"
      },
      "execution_count": null,
      "outputs": []
    },
    {
      "cell_type": "code",
      "source": [
        "#원본이미지에서 위의 1인부분만 출력\n",
        "import cv2\n",
        "image = np.array(input_image)\n",
        "masked_image = image * result[:, :, None]\n",
        "# 결과 이미지 표시\n",
        "plt.imshow(masked_image)\n",
        "plt.axis('off')\n",
        "masked_image1 = cv2.cvtColor(masked_image.astype(np.uint8), cv2.COLOR_RGB2BGR)"
      ],
      "metadata": {
        "id": "xdoE20OBFFpC"
      },
      "execution_count": null,
      "outputs": []
    },
    {
      "cell_type": "code",
      "source": [
        "import cv2\n",
        "import numpy as np\n",
        "from google.colab.patches import cv2_imshow  # Colab에서 이미지를 표시하기 위한 함수\n",
        "\n",
        "def extract_skin_color(image, lower_skin_threshold, upper_skin_threshold):\n",
        "    # BGR을 HSV로 변환\n",
        "    hsv = cv2.cvtColor(image, cv2.COLOR_BGR2HSV)\n",
        "\n",
        "    # 살색을 정의하는 HSV 범위\n",
        "    lower_skin = np.array(lower_skin_threshold, dtype=np.uint8)\n",
        "    upper_skin = np.array(upper_skin_threshold, dtype=np.uint8)\n",
        "\n",
        "    # HSV 이미지에서 살색에 해당하는 부분 추출\n",
        "    skin_mask = cv2.inRange(hsv, lower_skin, upper_skin)\n",
        "\n",
        "    # 원본 이미지에서 살색 부분만 추출\n",
        "    result = cv2.bitwise_and(image, image, mask=skin_mask)\n",
        "\n",
        "    # 결과를 Colab에서 표시\n",
        "    cv2_imshow(result)\n",
        "\n",
        "\n",
        "\n"
      ],
      "metadata": {
        "id": "NVBCprLjEz0v"
      },
      "execution_count": null,
      "outputs": []
    },
    {
      "cell_type": "code",
      "source": [
        "#황색 범위 설정, 최종 결과\n",
        "lower_skin_threshold = [8, 80, 150]  # 예시값, 조절 가능\n",
        "upper_skin_threshold = [18, 130, 220]  # 예시값, 조절 가능\n",
        "extract_skin_color(masked_image1, lower_skin_threshold, upper_skin_threshold)"
      ],
      "metadata": {
        "id": "LhGfu8gNHA4D"
      },
      "execution_count": null,
      "outputs": []
    },
    {
      "cell_type": "code",
      "source": [],
      "metadata": {
        "id": "2bbSmfZ1HIsu"
      },
      "execution_count": null,
      "outputs": []
    }
  ]
}